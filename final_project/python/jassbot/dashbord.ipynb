{
 "cells": [
  {
   "cell_type": "code",
   "execution_count": 1,
   "id": "ee6b9b27",
   "metadata": {},
   "outputs": [],
   "source": [
    "import game_engine\n",
    "import numpy as np\n",
    "import pandas as pd\n",
    "import matplotlib.pyplot as plt"
   ]
  },
  {
   "cell_type": "code",
   "execution_count": 2,
   "id": "436f2bb2",
   "metadata": {},
   "outputs": [],
   "source": [
    "def str_to_numb(txt):\n",
    "    word = str(txt)\n",
    "    number = 0\n",
    "    for letter in word:\n",
    "        number += ord(letter)\n",
    "    return number\n"
   ]
  },
  {
   "cell_type": "code",
   "execution_count": 3,
   "id": "a293ecf7",
   "metadata": {},
   "outputs": [],
   "source": [
    "game = game_engine.Game()"
   ]
  },
  {
   "cell_type": "code",
   "execution_count": 4,
   "id": "35052a19",
   "metadata": {},
   "outputs": [],
   "source": [
    "game_engine.AGENT1 = \"op2\"\n",
    "game_engine.AGENT2 = \"random\""
   ]
  },
  {
   "cell_type": "code",
   "execution_count": 5,
   "id": "835771c6",
   "metadata": {
    "scrolled": false
   },
   "outputs": [
    {
     "ename": "ValueError",
     "evalue": "list.remove(x): x not in list",
     "output_type": "error",
     "traceback": [
      "\u001b[0;31m---------------------------------------------------------------------------\u001b[0m",
      "\u001b[0;31mValueError\u001b[0m                                Traceback (most recent call last)",
      "File \u001b[0;32m<timed exec>:13\u001b[0m\n",
      "File \u001b[0;32m~/Documents/CAS_ADS/Git_Repository/CAS-in-Applied-Data-Science/final_project/python/jassbot/game_engine.py:187\u001b[0m, in \u001b[0;36mGame.play_game\u001b[0;34m(self)\u001b[0m\n\u001b[1;32m    184\u001b[0m \u001b[38;5;66;03m# play rounds -----------------------------------------------------\u001b[39;00m\n\u001b[1;32m    185\u001b[0m \u001b[38;5;28;01mfor\u001b[39;00m current_round \u001b[38;5;129;01min\u001b[39;00m \u001b[38;5;28mrange\u001b[39m(\u001b[38;5;241m0\u001b[39m, \u001b[38;5;241m9\u001b[39m):  \u001b[38;5;66;03m# 9 is the good number\u001b[39;00m\n\u001b[1;32m    186\u001b[0m     \u001b[38;5;66;03m# logging.info(f\"\\nPlaying Round {current_round}\")\u001b[39;00m\n\u001b[0;32m--> 187\u001b[0m     \u001b[38;5;28;43mself\u001b[39;49m\u001b[38;5;241;43m.\u001b[39;49m\u001b[43mplay_round\u001b[49m\u001b[43m(\u001b[49m\u001b[38;5;28;43mself\u001b[39;49m\u001b[38;5;241;43m.\u001b[39;49m\u001b[43mtrump\u001b[49m\u001b[43m)\u001b[49m  \u001b[38;5;66;03m# -------------------------------\u001b[39;00m\n\u001b[1;32m    188\u001b[0m     \u001b[38;5;66;03m# update state and action\u001b[39;00m\n\u001b[1;32m    189\u001b[0m     \u001b[38;5;28;01mpass\u001b[39;00m\n",
      "File \u001b[0;32m~/Documents/CAS_ADS/Git_Repository/CAS-in-Applied-Data-Science/final_project/python/jassbot/game_engine.py:209\u001b[0m, in \u001b[0;36mGame.play_round\u001b[0;34m(self, trump)\u001b[0m\n\u001b[1;32m    206\u001b[0m         second \u001b[38;5;241m=\u001b[39m player\n\u001b[1;32m    208\u001b[0m \u001b[38;5;66;03m# first player plays card\u001b[39;00m\n\u001b[0;32m--> 209\u001b[0m played1, first\u001b[38;5;241m.\u001b[39mhand, first\u001b[38;5;241m.\u001b[39mplayed_cards \u001b[38;5;241m=\u001b[39m \u001b[38;5;28;43mself\u001b[39;49m\u001b[38;5;241;43m.\u001b[39;49m\u001b[43mplay_card\u001b[49m\u001b[43m(\u001b[49m\u001b[43mfirst\u001b[49m\u001b[43m,\u001b[49m\u001b[43m \u001b[49m\u001b[43mtrump\u001b[49m\u001b[43m)\u001b[49m\n\u001b[1;32m    210\u001b[0m \u001b[38;5;66;03m# second player plays card\u001b[39;00m\n\u001b[1;32m    211\u001b[0m played2, second\u001b[38;5;241m.\u001b[39mhand, second\u001b[38;5;241m.\u001b[39mplayed_cards \u001b[38;5;241m=\u001b[39m \u001b[38;5;28mself\u001b[39m\u001b[38;5;241m.\u001b[39mplay_card(second,\n\u001b[1;32m    212\u001b[0m                                                            trump,\n\u001b[1;32m    213\u001b[0m                                                            played1)\n",
      "File \u001b[0;32m~/Documents/CAS_ADS/Git_Repository/CAS-in-Applied-Data-Science/final_project/python/jassbot/game_engine.py:254\u001b[0m, in \u001b[0;36mGame.play_card\u001b[0;34m(self, player, trump, played)\u001b[0m\n\u001b[1;32m    250\u001b[0m     played \u001b[38;5;241m=\u001b[39m ai\u001b[38;5;241m.\u001b[39mrun()\n\u001b[1;32m    251\u001b[0m     \u001b[38;5;66;03m# print(\"player: \", player.name)\u001b[39;00m\n\u001b[1;32m    252\u001b[0m     \u001b[38;5;66;03m# print(\"played: \", played, type(played))\u001b[39;00m\n\u001b[1;32m    253\u001b[0m     \u001b[38;5;66;03m# print(\"player hand: \", player.hand)\u001b[39;00m\n\u001b[0;32m--> 254\u001b[0m     \u001b[43mplayer\u001b[49m\u001b[38;5;241;43m.\u001b[39;49m\u001b[43mhand\u001b[49m\u001b[38;5;241;43m.\u001b[39;49m\u001b[43mremove\u001b[49m\u001b[43m(\u001b[49m\u001b[43mplayed\u001b[49m\u001b[43m)\u001b[49m\n\u001b[1;32m    255\u001b[0m     player\u001b[38;5;241m.\u001b[39mplayed_cards\u001b[38;5;241m.\u001b[39mappend(played)\n\u001b[1;32m    256\u001b[0m \u001b[38;5;66;03m# print(played)\u001b[39;00m\n",
      "\u001b[0;31mValueError\u001b[0m: list.remove(x): x not in list"
     ]
    }
   ],
   "source": [
    "%%time\n",
    "\n",
    "\n",
    "data = []\n",
    "\n",
    "x = []  # round\n",
    "y1 = []  # points player 1\n",
    "y2 = []  # points player 1\n",
    "w1 = 0  # wins player 1\n",
    "w2 = 0  # wins player 2\n",
    "win = []\n",
    "\n",
    "rounds = 1_000 #_000\n",
    "\n",
    "for i in range(1, rounds + 1):\n",
    "    data.append(game.play_game())\n",
    "\n",
    "for i, dat in enumerate(data):\n",
    "    x.append(i)\n",
    "    y1.append(dat[0].points)\n",
    "    y2.append(dat[1].points)\n",
    "\n",
    "    if dat[0].points > dat[1].points:\n",
    "        w1 += 1\n",
    "        win.append([1, 0])\n",
    "    elif dat[0].points < dat[1].points:\n",
    "        w2 +=1\n",
    "        win.append([0, 1])\n",
    "    else:\n",
    "        win.append([0, 0])\n",
    "\n",
    "# print(game.data)\n",
    "conf_data = []\n",
    "for row in game.data:\n",
    "    row_list = []\n",
    "    row_list.append(str_to_numb(row[0]))\n",
    "    for item in row[1]:\n",
    "        row_list.append(str_to_numb(item))\n",
    "    row_list.append(row[2])\n",
    "    row_list.append(row[3])\n",
    "    conf_data.append(row_list)\n",
    "\n",
    "df = pd.DataFrame(conf_data)\n",
    "# print(df)\n",
    "        \n",
    "print(f\"Winnrate for Player 1: {w1/(w1+w2):0.2f}\")\n",
    "print(f\"Winnrate for Player 2: {w2/(w1+w2):0.2f}\")\n",
    "\n",
    "\n",
    "# win statistic\n",
    "plt.bar([1, 2], [w1, w2])\n",
    "plt.xticks([1, 2], [f\"Player 1\\n{game_engine.AGENT1}\", f\"Player 2\\n{game_engine.AGENT2}\"])\n",
    "plt.title(f\"Winns after {rounds} games\")\n",
    "plt.show()\n",
    "\n",
    "\n",
    "win1 = []\n",
    "win2 = []\n",
    "for w in win:\n",
    "    win1.append(w[0])\n",
    "    win2.append(w[1])\n",
    "\n",
    "if True:\n",
    "    # cumsum of winnings\n",
    "    plt.plot(x, np.cumsum(win1), label=f\"Player 1: {game_engine.AGENT1}\")\n",
    "    plt.plot(x, np.cumsum(win2), label=f\"Player 2: {game_engine.AGENT2}\")\n",
    "    plt.xlabel(\"games\")\n",
    "    plt.ylabel(\"points\")\n",
    "    plt.title(f\"winns\")\n",
    "    plt.legend()\n",
    "    plt.show()\n",
    "\n",
    "\n",
    "\n",
    "if True:\n",
    "    # points per game\n",
    "    plt.plot(x, y1, label=\"Player 1\")\n",
    "    plt.plot(x, y2, label=\"Player 2\")\n",
    "    plt.xlabel(\"games\")\n",
    "    plt.ylabel(\"points\")\n",
    "    plt.title(f\"Points per game\")\n",
    "    plt.legend()\n",
    "    plt.show()"
   ]
  },
  {
   "cell_type": "code",
   "execution_count": null,
   "id": "e58fc25e",
   "metadata": {},
   "outputs": [],
   "source": []
  }
 ],
 "metadata": {
  "kernelspec": {
   "display_name": "Python 3 (ipykernel)",
   "language": "python",
   "name": "python3"
  },
  "language_info": {
   "codemirror_mode": {
    "name": "ipython",
    "version": 3
   },
   "file_extension": ".py",
   "mimetype": "text/x-python",
   "name": "python",
   "nbconvert_exporter": "python",
   "pygments_lexer": "ipython3",
   "version": "3.11.3"
  },
  "toc": {
   "base_numbering": 1,
   "nav_menu": {},
   "number_sections": true,
   "sideBar": true,
   "skip_h1_title": false,
   "title_cell": "Table of Contents",
   "title_sidebar": "Contents",
   "toc_cell": false,
   "toc_position": {},
   "toc_section_display": true,
   "toc_window_display": false
  },
  "varInspector": {
   "cols": {
    "lenName": 16,
    "lenType": 16,
    "lenVar": 40
   },
   "kernels_config": {
    "python": {
     "delete_cmd_postfix": "",
     "delete_cmd_prefix": "del ",
     "library": "var_list.py",
     "varRefreshCmd": "print(var_dic_list())"
    },
    "r": {
     "delete_cmd_postfix": ") ",
     "delete_cmd_prefix": "rm(",
     "library": "var_list.r",
     "varRefreshCmd": "cat(var_dic_list()) "
    }
   },
   "types_to_exclude": [
    "module",
    "function",
    "builtin_function_or_method",
    "instance",
    "_Feature"
   ],
   "window_display": false
  }
 },
 "nbformat": 4,
 "nbformat_minor": 5
}
